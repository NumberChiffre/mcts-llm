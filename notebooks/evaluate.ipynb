{
 "cells": [
  {
   "cell_type": "code",
   "execution_count": null,
   "metadata": {},
   "outputs": [],
   "source": [
    "import os\n",
    "import sys\n",
    "import logging\n",
    "from dotenv import load_dotenv\n",
    "\n",
    "import dspy\n",
    "from dspy.datasets.gsm8k import GSM8K, gsm8k_metric\n",
    "from dspy.evaluate import Evaluate\n",
    "import numpy as np\n",
    "\n",
    "sys.path.append(os.path.dirname(os.getcwd()))\n",
    "from mcts_llm.mctsr import MCTSr, ZeroShotCoT, MultipleTurnSelfRefine, Policy\n",
    "\n",
    "load_dotenv()\n",
    "\n",
    "logging.basicConfig(level=logging.WARNING)\n",
    "logging.getLogger(\"mcts-llm\").setLevel(logging.INFO)\n",
    "\n",
    "np.random.seed(42)"
   ]
  },
  {
   "cell_type": "code",
   "execution_count": null,
   "metadata": {},
   "outputs": [],
   "source": [
    "ollama = dspy.OllamaLocal(\n",
    "    model=\"qwen2.5:7b-instruct\", \n",
    "    model_type=\"chat\",\n",
    "    temperature=1.0,\n",
    "    max_tokens=1024,\n",
    "    num_ctx=1024,\n",
    "    timeout_s=600,\n",
    "    cache=False\n",
    ")\n",
    "dspy.settings.configure(lm=ollama, experimental=True)"
   ]
  },
  {
   "cell_type": "code",
   "execution_count": null,
   "metadata": {},
   "outputs": [],
   "source": [
    "gsm8k = GSM8K()"
   ]
  },
  {
   "cell_type": "code",
   "execution_count": null,
   "metadata": {},
   "outputs": [],
   "source": [
    "gsm8k_trainset = [\n",
    "    dspy.Example(\n",
    "        problem=example['question'], \n",
    "        gold_reasoning=example['gold_reasoning'],\n",
    "        answer=example['answer']\n",
    "    ).with_inputs(\"problem\") for example in gsm8k.train\n",
    "]\n",
    "np.random.shuffle(gsm8k_trainset)\n",
    "gsm8k_trainset[:10]"
   ]
  },
  {
   "cell_type": "code",
   "execution_count": null,
   "metadata": {},
   "outputs": [],
   "source": [
    "gsm8k_testset = [\n",
    "    dspy.Example(\n",
    "        problem=example['question'], \n",
    "        gold_reasoning=example['gold_reasoning'],\n",
    "        answer=example['answer']\n",
    "    ).with_inputs(\"problem\") for example in gsm8k.test\n",
    "]\n",
    "np.random.shuffle(gsm8k_testset)\n",
    "gsm8k_testset[:10]"
   ]
  },
  {
   "cell_type": "code",
   "execution_count": null,
   "metadata": {},
   "outputs": [],
   "source": [
    "evaluate = Evaluate(\n",
    "    devset=gsm8k_testset[:20], \n",
    "    metric=gsm8k_metric, \n",
    "    num_threads=os.cpu_count(), \n",
    "    display_progress=True,\n",
    "    display_table=10,\n",
    ")"
   ]
  },
  {
   "cell_type": "code",
   "execution_count": null,
   "metadata": {},
   "outputs": [],
   "source": [
    "evaluate(ZeroShotCoT())"
   ]
  },
  {
   "cell_type": "code",
   "execution_count": null,
   "metadata": {},
   "outputs": [],
   "source": [
    "evaluate(MultipleTurnSelfRefine(num_turns=1))"
   ]
  },
  {
   "cell_type": "code",
   "execution_count": null,
   "metadata": {},
   "outputs": [],
   "source": [
    "evaluate(MCTSr())"
   ]
  },
  {
   "cell_type": "code",
   "execution_count": null,
   "metadata": {},
   "outputs": [],
   "source": [
    "evaluate(MCTSr(policy=Policy.IMPORTANCE_SAMPLING))"
   ]
  },
  {
   "cell_type": "code",
   "execution_count": null,
   "metadata": {},
   "outputs": [],
   "source": [
    "evaluate(MCTSr(max_rollouts=8))"
   ]
  },
  {
   "cell_type": "code",
   "execution_count": null,
   "metadata": {},
   "outputs": [],
   "source": [
    "evaluate(MCTSr(max_rollouts=8, policy=Policy.IMPORTANCE_SAMPLING))"
   ]
  },
  {
   "cell_type": "code",
   "execution_count": null,
   "metadata": {},
   "outputs": [],
   "source": [
    "evaluate(MCTSr(max_rollouts=16))"
   ]
  },
  {
   "cell_type": "code",
   "execution_count": null,
   "metadata": {},
   "outputs": [],
   "source": [
    "evaluate(MCTSr(max_rollouts=16, policy=Policy.IMPORTANCE_SAMPLING))"
   ]
  }
 ],
 "metadata": {
  "kernelspec": {
   "display_name": "mctsr-dspy",
   "language": "python",
   "name": "python3"
  },
  "language_info": {
   "codemirror_mode": {
    "name": "ipython",
    "version": 3
   },
   "file_extension": ".py",
   "mimetype": "text/x-python",
   "name": "python",
   "nbconvert_exporter": "python",
   "pygments_lexer": "ipython3",
   "version": "3.12.7"
  }
 },
 "nbformat": 4,
 "nbformat_minor": 2
}
